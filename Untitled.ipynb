{
 "cells": [
  {
   "cell_type": "code",
   "execution_count": 1,
   "id": "4f9e3d22-67b3-4a2e-a9e8-422232e7f5e5",
   "metadata": {},
   "outputs": [],
   "source": [
    "import sqlite3\n",
    "import pandas as pd"
   ]
  },
  {
   "cell_type": "code",
   "execution_count": 2,
   "id": "ce39c376-7738-4485-9179-1401fbaec57f",
   "metadata": {},
   "outputs": [],
   "source": [
    "# define connection and cursor\n",
    "conn = sqlite3.connect('store_transactions.db')\n",
    "c = conn.cursor()"
   ]
  },
  {
   "cell_type": "code",
   "execution_count": 3,
   "id": "0333743a-5d90-4455-af82-64ce7ff3c00e",
   "metadata": {},
   "outputs": [
    {
     "data": {
      "text/plain": [
       "<sqlite3.Cursor at 0x215b59da0c0>"
      ]
     },
     "execution_count": 3,
     "metadata": {},
     "output_type": "execute_result"
    }
   ],
   "source": [
    "#create table stores\n",
    "create_table_1 = \"\"\"\n",
    "CREATE TABLE IF NOT EXISTS stores\n",
    "(\n",
    "store_id    INTEGER   PRIMARY KEY, \n",
    "location    TEXT      NOT NULL, -- variable length: string (slow), Also VARCHAR\n",
    "brand       CHAR(2)   NOT NULL -- fixed length: string\n",
    ");\n",
    "\"\"\"\n",
    "\n",
    "create_table_2 = \"\"\"\n",
    "CREATE TABLE IF NOT EXISTS purchases\n",
    "(\n",
    "purchase_id     INTEGER         PRIMARY KEY, \n",
    "store_id        INTEGER         NOT NULL, \n",
    "total_cost      DECIMAL(6,2)    NOT NULL,\n",
    "FOREIGN KEY(store_id) REFERENCES stores(store_id)\n",
    ");\n",
    "\"\"\"\n",
    "c.execute(create_table_1)\n",
    "c.execute(create_table_2)\n"
   ]
  },
  {
   "cell_type": "code",
   "execution_count": 4,
   "id": "c04e49db-c634-49f9-be29-04d2ff4d77c7",
   "metadata": {},
   "outputs": [
    {
     "data": {
      "text/plain": [
       "<sqlite3.Cursor at 0x215b59da0c0>"
      ]
     },
     "execution_count": 4,
     "metadata": {},
     "output_type": "execute_result"
    }
   ],
   "source": [
    "#add to stores\n",
    "insert_val = \"\"\"\n",
    "INSERT INTO stores\n",
    "(store_id, location, brand)\n",
    "VALUES \n",
    "(21, 'Minneapolis, MN', 'brand1'),\n",
    "(95, 'Chicago, IL', 'brand2'),\n",
    "(64, 'Iowa City, IA', 'brand33');\n",
    "\"\"\"\n",
    "c.execute(insert_val)"
   ]
  },
  {
   "cell_type": "code",
   "execution_count": 5,
   "id": "3e55aa45-a110-4211-af1e-afda49862438",
   "metadata": {},
   "outputs": [
    {
     "data": {
      "text/plain": [
       "<sqlite3.Cursor at 0x215b59da0c0>"
      ]
     },
     "execution_count": 5,
     "metadata": {},
     "output_type": "execute_result"
    }
   ],
   "source": [
    "#add to purchases\n",
    "c.execute(\"INSERT INTO purchases VALUES (54, 21, 15.4)\")\n",
    "c.execute(\"INSERT INTO purchases VALUES (23, 64, 21.12)\")\n"
   ]
  },
  {
   "cell_type": "code",
   "execution_count": 6,
   "id": "1696293a-40b1-442d-b883-2b7ed7dc3f8f",
   "metadata": {},
   "outputs": [
    {
     "data": {
      "text/html": [
       "<div>\n",
       "<style scoped>\n",
       "    .dataframe tbody tr th:only-of-type {\n",
       "        vertical-align: middle;\n",
       "    }\n",
       "\n",
       "    .dataframe tbody tr th {\n",
       "        vertical-align: top;\n",
       "    }\n",
       "\n",
       "    .dataframe thead th {\n",
       "        text-align: right;\n",
       "    }\n",
       "</style>\n",
       "<table border=\"1\" class=\"dataframe\">\n",
       "  <thead>\n",
       "    <tr style=\"text-align: right;\">\n",
       "      <th></th>\n",
       "      <th>store_id</th>\n",
       "      <th>location</th>\n",
       "      <th>brand</th>\n",
       "    </tr>\n",
       "  </thead>\n",
       "  <tbody>\n",
       "    <tr>\n",
       "      <th>0</th>\n",
       "      <td>21</td>\n",
       "      <td>Minneapolis, MN</td>\n",
       "      <td>brand1</td>\n",
       "    </tr>\n",
       "    <tr>\n",
       "      <th>1</th>\n",
       "      <td>64</td>\n",
       "      <td>Iowa City, IA</td>\n",
       "      <td>brand33</td>\n",
       "    </tr>\n",
       "    <tr>\n",
       "      <th>2</th>\n",
       "      <td>95</td>\n",
       "      <td>Chicago, IL</td>\n",
       "      <td>brand2</td>\n",
       "    </tr>\n",
       "  </tbody>\n",
       "</table>\n",
       "</div>"
      ],
      "text/plain": [
       "   store_id         location    brand\n",
       "0        21  Minneapolis, MN   brand1\n",
       "1        64    Iowa City, IA  brand33\n",
       "2        95      Chicago, IL   brand2"
      ]
     },
     "execution_count": 6,
     "metadata": {},
     "output_type": "execute_result"
    }
   ],
   "source": [
    "#get results\n",
    "pd.read_sql_query(\"SELECT * FROM stores\", conn)"
   ]
  },
  {
   "cell_type": "code",
   "execution_count": 7,
   "id": "be596ff0-01bd-46b7-bfa9-8b600e4bf89e",
   "metadata": {},
   "outputs": [
    {
     "data": {
      "text/html": [
       "<div>\n",
       "<style scoped>\n",
       "    .dataframe tbody tr th:only-of-type {\n",
       "        vertical-align: middle;\n",
       "    }\n",
       "\n",
       "    .dataframe tbody tr th {\n",
       "        vertical-align: top;\n",
       "    }\n",
       "\n",
       "    .dataframe thead th {\n",
       "        text-align: right;\n",
       "    }\n",
       "</style>\n",
       "<table border=\"1\" class=\"dataframe\">\n",
       "  <thead>\n",
       "    <tr style=\"text-align: right;\">\n",
       "      <th></th>\n",
       "      <th>purchase_id</th>\n",
       "      <th>store_id</th>\n",
       "      <th>total_cost</th>\n",
       "    </tr>\n",
       "  </thead>\n",
       "  <tbody>\n",
       "    <tr>\n",
       "      <th>0</th>\n",
       "      <td>23</td>\n",
       "      <td>64</td>\n",
       "      <td>21.12</td>\n",
       "    </tr>\n",
       "    <tr>\n",
       "      <th>1</th>\n",
       "      <td>54</td>\n",
       "      <td>21</td>\n",
       "      <td>15.40</td>\n",
       "    </tr>\n",
       "  </tbody>\n",
       "</table>\n",
       "</div>"
      ],
      "text/plain": [
       "   purchase_id  store_id  total_cost\n",
       "0           23        64       21.12\n",
       "1           54        21       15.40"
      ]
     },
     "execution_count": 7,
     "metadata": {},
     "output_type": "execute_result"
    }
   ],
   "source": [
    "retrieve = \"\"\"\n",
    "SELECT * FROM purchases\n",
    "LIMIT 5;\n",
    "\"\"\"\n",
    "pd.read_sql_query(retrieve, conn)"
   ]
  },
  {
   "cell_type": "code",
   "execution_count": 8,
   "id": "45baa906-4d62-484c-9f77-59e3f1b0ea78",
   "metadata": {},
   "outputs": [
    {
     "data": {
      "text/plain": [
       "<sqlite3.Cursor at 0x215b59da0c0>"
      ]
     },
     "execution_count": 8,
     "metadata": {},
     "output_type": "execute_result"
    }
   ],
   "source": [
    "#update\n",
    "c.execute(\"UPDATE purchases SET total_cost = 3.67 WHERE purchase_id = 54\")"
   ]
  },
  {
   "cell_type": "code",
   "execution_count": 9,
   "id": "f29e33ef-9d9d-4a5a-902a-6116df7b52e7",
   "metadata": {},
   "outputs": [
    {
     "data": {
      "text/html": [
       "<div>\n",
       "<style scoped>\n",
       "    .dataframe tbody tr th:only-of-type {\n",
       "        vertical-align: middle;\n",
       "    }\n",
       "\n",
       "    .dataframe tbody tr th {\n",
       "        vertical-align: top;\n",
       "    }\n",
       "\n",
       "    .dataframe thead th {\n",
       "        text-align: right;\n",
       "    }\n",
       "</style>\n",
       "<table border=\"1\" class=\"dataframe\">\n",
       "  <thead>\n",
       "    <tr style=\"text-align: right;\">\n",
       "      <th></th>\n",
       "      <th>purchase_id</th>\n",
       "      <th>store_id</th>\n",
       "      <th>total_cost</th>\n",
       "    </tr>\n",
       "  </thead>\n",
       "  <tbody>\n",
       "    <tr>\n",
       "      <th>0</th>\n",
       "      <td>23</td>\n",
       "      <td>64</td>\n",
       "      <td>21.12</td>\n",
       "    </tr>\n",
       "    <tr>\n",
       "      <th>1</th>\n",
       "      <td>54</td>\n",
       "      <td>21</td>\n",
       "      <td>3.67</td>\n",
       "    </tr>\n",
       "  </tbody>\n",
       "</table>\n",
       "</div>"
      ],
      "text/plain": [
       "   purchase_id  store_id  total_cost\n",
       "0           23        64       21.12\n",
       "1           54        21        3.67"
      ]
     },
     "execution_count": 9,
     "metadata": {},
     "output_type": "execute_result"
    }
   ],
   "source": [
    "pd.read_sql_query(\"SELECT * FROM purchases\", conn)"
   ]
  },
  {
   "cell_type": "code",
   "execution_count": 10,
   "id": "ac452149-9f98-4fdd-b724-dc5eb197f850",
   "metadata": {},
   "outputs": [
    {
     "data": {
      "text/html": [
       "<div>\n",
       "<style scoped>\n",
       "    .dataframe tbody tr th:only-of-type {\n",
       "        vertical-align: middle;\n",
       "    }\n",
       "\n",
       "    .dataframe tbody tr th {\n",
       "        vertical-align: top;\n",
       "    }\n",
       "\n",
       "    .dataframe thead th {\n",
       "        text-align: right;\n",
       "    }\n",
       "</style>\n",
       "<table border=\"1\" class=\"dataframe\">\n",
       "  <thead>\n",
       "    <tr style=\"text-align: right;\">\n",
       "      <th></th>\n",
       "      <th>store_id</th>\n",
       "      <th>location</th>\n",
       "      <th>brand</th>\n",
       "    </tr>\n",
       "  </thead>\n",
       "  <tbody>\n",
       "    <tr>\n",
       "      <th>0</th>\n",
       "      <td>21</td>\n",
       "      <td>Minneapolis, MN</td>\n",
       "      <td>brand1</td>\n",
       "    </tr>\n",
       "    <tr>\n",
       "      <th>1</th>\n",
       "      <td>64</td>\n",
       "      <td>Iowa City, IA</td>\n",
       "      <td>brand33</td>\n",
       "    </tr>\n",
       "    <tr>\n",
       "      <th>2</th>\n",
       "      <td>95</td>\n",
       "      <td>Chicago, IL</td>\n",
       "      <td>brand2</td>\n",
       "    </tr>\n",
       "  </tbody>\n",
       "</table>\n",
       "</div>"
      ],
      "text/plain": [
       "   store_id         location    brand\n",
       "0        21  Minneapolis, MN   brand1\n",
       "1        64    Iowa City, IA  brand33\n",
       "2        95      Chicago, IL   brand2"
      ]
     },
     "execution_count": 10,
     "metadata": {},
     "output_type": "execute_result"
    }
   ],
   "source": [
    "pd.read_sql_query(\"SELECT * FROM stores\", conn)"
   ]
  },
  {
   "cell_type": "code",
   "execution_count": null,
   "id": "aee734d2-c98c-4ac9-9774-4dde748c3027",
   "metadata": {},
   "outputs": [],
   "source": []
  },
  {
   "cell_type": "code",
   "execution_count": null,
   "id": "544df252-2826-4d4b-8ddd-b8f0bfe97f87",
   "metadata": {},
   "outputs": [],
   "source": []
  }
 ],
 "metadata": {
  "kernelspec": {
   "display_name": "Python 3 (ipykernel)",
   "language": "python",
   "name": "python3"
  },
  "language_info": {
   "codemirror_mode": {
    "name": "ipython",
    "version": 3
   },
   "file_extension": ".py",
   "mimetype": "text/x-python",
   "name": "python",
   "nbconvert_exporter": "python",
   "pygments_lexer": "ipython3",
   "version": "3.11.7"
  }
 },
 "nbformat": 4,
 "nbformat_minor": 5
}
